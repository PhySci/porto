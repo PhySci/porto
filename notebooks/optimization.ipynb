{
 "cells": [
  {
   "cell_type": "code",
   "execution_count": null,
   "metadata": {},
   "outputs": [],
   "source": [
    "import pandas as pd\n",
    "import numpy as np\n",
    "import matplotlib.pyplot as plt\n",
    "%matplotlib inline\n",
    "\n",
    "from sklearn.model_selection import StratifiedKFold\n",
    "from sklearn.model_selection import train_test_split\n",
    "from sklearn.metrics import roc_auc_score\n",
    "\n",
    "from catboost import CatBoostClassifier\n",
    "from catboost import Pool\n",
    "\n",
    "from bayes_opt import BayesianOptimization"
   ]
  },
  {
   "cell_type": "code",
   "execution_count": null,
   "metadata": {},
   "outputs": [],
   "source": [
    "# read data\n",
    "train = pd.read_csv('./data/train.csv',index_col='id')\n",
    "test = pd.read_csv('./data/test.csv',index_col='id')"
   ]
  },
  {
   "cell_type": "code",
   "execution_count": null,
   "metadata": {},
   "outputs": [],
   "source": [
    "def trainCatBoost(depth = 7, rate = 0.03, l2 = 3):\n",
    "    nFolds = 6\n",
    "    \n",
    "    skf = StratifiedKFold(n_splits= nFolds, shuffle=True, random_state=42)\n",
    "\n",
    "    dirName = '/tmp/porto/catboost/'+str(depth)+'_'+str(rate)+\\\n",
    "               '_'+str(l2)+'_'+str(1)+'_'+str(nFolds)\n",
    "    try:\n",
    "        os.mkdir(dirName)\n",
    "    except Exception:\n",
    "        print Exception\n",
    "\n",
    "    modelList = list()\n",
    "    scoreList = list()\n",
    "    seed = 1\n",
    "    \n",
    "    model = CatBoostClassifier(verbose= False, iterations=1000, thread_count=4, eval_metric= \"AUC\",\n",
    "                                   depth= np.round(depth), learning_rate= rate,\n",
    "                                   l2_leaf_reg= l2, od_type = 'Iter', od_wait = 20)\n",
    "\n",
    "    for train_index, val_index in skf.split(X_train, y_train):\n",
    "\n",
    "        model.set_params(train_dir = dirName+str(seed), random_seed= seed)\n",
    "\n",
    "        trainPool = Pool(trainSet.iloc[train_index], targetSet.iloc[train_index], feature_names=trainSet.columns.tolist())\n",
    "        valPool = Pool(trainSet.iloc[val_index], targetSet.iloc[val_index], feature_names=trainSet.columns.tolist()) \n",
    "        model.fit(trainPool, eval_set=valPool, use_best_model = True)\n",
    "        \n",
    "        prob = model.predict_proba(valPool)[:,1]\n",
    "        \n",
    "        score =  roc_auc_score(targetSet.iloc[val_index],prob)\n",
    "\n",
    "        modelList.append(model)\n",
    "        scoreList.append(score)\n",
    "        seed+=1\n",
    "        print 'Tree amount is ', model.tree_count_ ,' ROC_AUC is', score\n",
    "    \n",
    "    scoreArr = np.array(scoreList)\n",
    "    return scoreArr.mean() "
   ]
  },
  {
   "cell_type": "code",
   "execution_count": null,
   "metadata": {},
   "outputs": [],
   "source": [
    "def dropCalcFeatures(df): \n",
    "    dropList = list()\n",
    "    for fName in df.columns.tolist():\n",
    "        if fName.find('_calc_')>(-1):\n",
    "            dropList.append(fName)\n",
    "    \n",
    "    return df.drop(dropList,axis = 1)"
   ]
  },
  {
   "cell_type": "code",
   "execution_count": null,
   "metadata": {},
   "outputs": [],
   "source": [
    "X_train = dropCalcFeatures(train.drop('target',axis = 1))\n",
    "y_train = train.target"
   ]
  },
  {
   "cell_type": "code",
   "execution_count": null,
   "metadata": {},
   "outputs": [],
   "source": [
    "xgbBO = BayesianOptimization(trainCatBoost, {'depth': (6, 10),\n",
    "                                            'rate': (0.01, 0.1),\n",
    "                                            'l2': (1, 10)})"
   ]
  },
  {
   "cell_type": "code",
   "execution_count": null,
   "metadata": {},
   "outputs": [],
   "source": [
    "xgbBO.maximize(init_points=2, n_iter=3, acq=\"poi\", xi=0.1)"
   ]
  },
  {
   "cell_type": "code",
   "execution_count": null,
   "metadata": {},
   "outputs": [],
   "source": []
  }
 ],
 "metadata": {
  "kernelspec": {
   "display_name": "Python (Machine Learning)",
   "language": "python",
   "name": "ml"
  },
  "language_info": {
   "codemirror_mode": {
    "name": "ipython",
    "version": 2
   },
   "file_extension": ".py",
   "mimetype": "text/x-python",
   "name": "python",
   "nbconvert_exporter": "python",
   "pygments_lexer": "ipython2",
   "version": "2.7.12"
  }
 },
 "nbformat": 4,
 "nbformat_minor": 2
}
