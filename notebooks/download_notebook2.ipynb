{
 "cells": [
  {
   "cell_type": "markdown",
   "metadata": {
    "_cell_guid": "fb618020-d1ef-43b8-914f-fa870e433505",
    "_uuid": "5cbb8c69ffee2153f7cd4f12318f5797da813c49"
   },
   "source": [
    "There are several things we will be doing here. Be warned:\n",
    "\n",
    "![TL;DR](https://m.popkey.co/3c4432/1Z7Mx.gif)\n",
    "\n",
    "\n",
    "First, we will do some feature engineering on \"categorical\" variables (note that I am legally obligated to put that word in quotation marks since, on the surface, they are all numerical variables). I will advertise [__MLBox__](https://github.com/AxeldeRomblay/MLBox) as it will help us with feature engineering. This seems like an excellent ML package, and even though I would not want a single ML package doing everything while I'm just watching, it is undeniable that there are lots of useful tools in it. The one we will use is its [__categorical encoder__](http://mlbox.readthedocs.io/en/latest/features.html#categorical-features). Originally, I wrote this script with [__entity embedding__](https://arxiv.org/abs/1604.06737) as my strategy of choice. We all know what happens with best laid plans ...\n",
    "\n",
    "\n",
    "![Best laid plans](https://i.imgur.com/f8sAmnn.gif)\n",
    "\n",
    "\n",
    "On my GTX 1080 the entity embedding learning took 3 minutes, while on Kaggle it was going for solid  52 minutes during peak hours. So I went with [__random projection__](https://en.wikipedia.org/wiki/Random_projection) instead for the sake of time, but I do encourage you to uncomment the line below that calls entity embedding and give it a try locally.\n",
    "\n",
    "Next, we will use these new features as an input for [__XGBoost upsampling__](https://www.kaggle.com/ogrellier/xgb-classifier-upsampling-lb-0-283). That script is very fast so it stands a chance of finishing several runs in an hour, and I like the idea as well. I have left all of the original comments from that script intact, which also give credit to other Kagglers from whom @[olivier](https://www.kaggle.com/ogrellier) has borrowed.\n",
    "\n",
    "Please read the comment section in that script and @olivier's though on a variety of topics, including the potential for overfitting. Though we are not using his target encoding method here, the same disclaimer applies.\n",
    "\n",
    "The idea is to do several quick Bayesian optimization runs with relatively high learing rate (0.1) in order to find the best parameters. Once we have the parameters, proper XGBoost training and prediction are done for higher number of iterations and with lower learning rate (0.02). You can explore other Bayesian optimization ideas [__here__](https://www.kaggle.com/tilii7/bayesian-optimization-of-xgboost-parameters)."
   ]
  },
  {
   "cell_type": "code",
   "execution_count": 3,
   "metadata": {
    "_cell_guid": "0a133530-24be-4239-ab65-3e1eb75349ac",
    "_uuid": "42a121b1acb1c5ec7c1644184394b1504bd4347f"
   },
   "outputs": [
    {
     "name": "stderr",
     "output_type": "stream",
     "text": [
      "Using Theano backend.\n"
     ]
    },
    {
     "name": "stdout",
     "output_type": "stream",
     "text": [
      "5\n"
     ]
    }
   ],
   "source": [
    "# coding: utf-8\n",
    "# The next line is needed for python 2.7 ; probably not for python 3\n",
    "from __future__ import print_function\n",
    "\n",
    "import numpy as np\n",
    "import pandas as pd\n",
    "import gc\n",
    "import warnings\n",
    "from bayes_opt import BayesianOptimization\n",
    "from sklearn.model_selection import StratifiedKFold\n",
    "from sklearn.metrics import log_loss, matthews_corrcoef, roc_auc_score\n",
    "import xgboost as xgb\n",
    "from xgboost import XGBClassifier\n",
    "import gc\n",
    "from numba import jit\n",
    "from sklearn.preprocessing import LabelEncoder\n",
    "from sklearn.preprocessing import MinMaxScaler\n",
    "import time\n",
    "from datetime import datetime\n",
    "from mlbox.encoding import Categorical_encoder as CE\n",
    "\n",
    "@jit\n",
    "def eval_gini(y_true, y_prob):\n",
    "    \"\"\"\n",
    "    Original author CPMP : https://www.kaggle.com/cpmpml\n",
    "    In kernel : https://www.kaggle.com/cpmpml/extremely-fast-gini-computation\n",
    "    \"\"\"\n",
    "    y_true = np.asarray(y_true)\n",
    "    y_true = y_true[np.argsort(y_prob)]\n",
    "    ntrue = 0\n",
    "    gini = 0\n",
    "    delta = 0\n",
    "    n = len(y_true)\n",
    "    for i in range(n-1, -1, -1):\n",
    "        y_i = y_true[i]\n",
    "        ntrue += y_i\n",
    "        gini += y_i * delta\n",
    "        delta += 1 - y_i\n",
    "    gini = 1 - 2 * gini / (ntrue * (n - ntrue))\n",
    "    return gini\n",
    "\n",
    "def gini_xgb(preds, dtrain):\n",
    "    labels = dtrain.get_label()\n",
    "    gini_score = eval_gini(labels, preds)\n",
    "    return [('gini', gini_score)]\n",
    "\n",
    "def add_noise(series, noise_level):\n",
    "    return series * (1 + noise_level * np.random.randn(len(series)))\n",
    "\n",
    "def timer(start_time=None):\n",
    "    if not start_time:\n",
    "        start_time = datetime.now()\n",
    "        return start_time\n",
    "    elif start_time:\n",
    "        thour, temp_sec = divmod(\n",
    "            (datetime.now() - start_time).total_seconds(), 3600)\n",
    "        tmin, tsec = divmod(temp_sec, 60)\n",
    "        print('\\n Time taken: %i hours %i minutes and %s seconds.' % (thour, tmin, round(tsec, 2)))\n",
    "\n",
    "def scale_data(X, scaler=None):\n",
    "    if not scaler:\n",
    "        scaler = MinMaxScaler(feature_range=(-1, 1))\n",
    "        scaler.fit(X)\n",
    "    X = scaler.transform(X)\n",
    "    return X, scaler\n"
   ]
  },
  {
   "cell_type": "markdown",
   "metadata": {
    "_cell_guid": "24ca964e-faa3-4796-a6c0-18e03f2db181",
    "_uuid": "8c8c9574e4383194f7715df05253705c8610f312"
   },
   "source": [
    "Here we define cross-validation variables that are used for parameter search. Each parameter has its own line, so it is easy to comment something out if you wish. Keep in mind that in such a case you must comment out the matching lines in optimization and explore sections below. I commented out *max_delta_step, subsample and colsample_bytree* and assigned them fixed values. This was done after noticing interesting patterns for alpha, lambda and scale_pos_weight in [__this script__](https://www.kaggle.com/aharless/xgboost-cv-lb-284). So I included them in optimization even though I believe that the above-mentioned script is over-fitting. Feel free to uncomment the lines and optimize 9 instead of 6 variables, but keep in mind that you will need much larger number of initial and optimization points to do that properly.\n",
    "\n",
    "Note that the learning rate (\"eta\") is set to 0.1 below. That is done so we can learn the parameters quickly (without going over 200 XGBoost iterations on average). __Here is a tip: change n_estimators below from 200 to 300-400 and see if that gives a better score during optimization -- it will take longer, though.__"
   ]
  },
  {
   "cell_type": "code",
   "execution_count": 17,
   "metadata": {
    "_cell_guid": "e353f5c8-804b-41eb-8dcb-90768a8c71ca",
    "_uuid": "8d1180db3bc66d0d6e47a179ef01183d30bdde74"
   },
   "outputs": [],
   "source": [
    "# Comment out any parameter you don't want to test\n",
    "def XGB_CV(\n",
    "          max_depth,\n",
    "          gamma,\n",
    "          min_child_weight,\n",
    "          max_delta_step,\n",
    "          subsample,\n",
    "          colsample_bytree,\n",
    "          scale_pos_weight,\n",
    "          reg_alpha,\n",
    "          reg_lambda\n",
    "         ):\n",
    "\n",
    "    global GINIbest\n",
    "\n",
    "    n_splits = 5\n",
    "    n_estimators = 200\n",
    "    folds = StratifiedKFold(n_splits=n_splits, random_state=1001)\n",
    "    xgb_evals = np.zeros((n_estimators, n_splits))\n",
    "    oof = np.empty(len(trn_df))\n",
    "    sub_preds = np.zeros(len(sub_df))\n",
    "    increase = True\n",
    "    np.random.seed(0)\n",
    "\n",
    "    for fold_, (trn_idx, val_idx) in enumerate(folds.split(target, target)):\n",
    "        trn_dat, trn_tgt = trn_df.iloc[trn_idx], target.iloc[trn_idx]\n",
    "        val_dat, val_tgt = trn_df.iloc[val_idx], target.iloc[val_idx]\n",
    "\n",
    "#\n",
    "# Define all XGboost parameters\n",
    "#\n",
    "        clf = XGBClassifier(n_estimators=n_estimators,\n",
    "                            max_depth=int(max_depth),\n",
    "                            objective=\"binary:logistic\",\n",
    "                            learning_rate=0.1,\n",
    "                            subsample=max(min(subsample, 1), 0),\n",
    "                            colsample_bytree=max(min(colsample_bytree, 1), 0),\n",
    "                            max_delta_step=int(max_delta_step),\n",
    "                            #max_delta_step=1,\n",
    "                            #subsample=0.8,\n",
    "                            #colsample_bytree=0.8,\n",
    "                            gamma=gamma,\n",
    "                            reg_alpha=reg_alpha,\n",
    "                            reg_lambda=reg_lambda,\n",
    "                            scale_pos_weight=scale_pos_weight,\n",
    "                            min_child_weight=min_child_weight,\n",
    "                            nthread=4)\n",
    "\n",
    "        # Upsample during cross validation to avoid having the same samples\n",
    "        # in both train and validation sets\n",
    "        # Validation set is not up-sampled to monitor overfitting\n",
    "        if increase:\n",
    "            # Get positive examples\n",
    "            pos = pd.Series(trn_tgt == 1)\n",
    "            # Add positive examples\n",
    "            trn_dat = pd.concat([trn_dat, trn_dat.loc[pos]], axis=0)\n",
    "            trn_tgt = pd.concat([trn_tgt, trn_tgt.loc[pos]], axis=0)\n",
    "            # Shuffle data\n",
    "            idx = np.arange(len(trn_dat))\n",
    "            np.random.shuffle(idx)\n",
    "            trn_dat = trn_dat.iloc[idx]\n",
    "            trn_tgt = trn_tgt.iloc[idx]\n",
    "\n",
    "        clf.fit(trn_dat, trn_tgt,\n",
    "                eval_set=[(trn_dat, trn_tgt), (val_dat, val_tgt)],\n",
    "                eval_metric=gini_xgb,\n",
    "                early_stopping_rounds=None,\n",
    "                verbose=False)\n",
    "\n",
    "        # Find best round for validation set\n",
    "        xgb_evals[:, fold_] = clf.evals_result_[\"validation_1\"][\"gini\"]\n",
    "        # Xgboost provides best round starting from 0 so it has to be incremented\n",
    "        best_round = np.argsort(xgb_evals[:, fold_])[::-1][0]\n",
    "\n",
    "    # Compute mean score and std\n",
    "    mean_eval = np.mean(xgb_evals, axis=1)\n",
    "    std_eval = np.std(xgb_evals, axis=1)\n",
    "    best_round = np.argsort(mean_eval)[::-1][0]\n",
    "\n",
    "    print(' Stopped after %d iterations with val-gini = %.6f +- %.6f' % ( best_round, mean_eval[best_round], std_eval[best_round]) )\n",
    "    if ( mean_eval[best_round] > GINIbest ):\n",
    "        GINIbest = mean_eval[best_round]\n",
    "\n",
    "    return mean_eval[best_round]"
   ]
  },
  {
   "cell_type": "markdown",
   "metadata": {
    "_cell_guid": "7c75002c-22ef-462e-be82-9ccdf48e80eb",
    "_uuid": "35645233c34693ed83218fae84cc75587db9bb1c"
   },
   "source": [
    "I explained above why I went with random projection over entity embedding, but I encourage you to give the latter a try. I suggest you save the files with learned embeddings, so next time you just open them and skip the learning part.\n",
    "\n",
    "We are dropping all __ps_calc__ variables."
   ]
  },
  {
   "cell_type": "code",
   "execution_count": 18,
   "metadata": {
    "_cell_guid": "a732a005-0170-4c17-80b2-a343e1862275",
    "_uuid": "bd86ee869753e3b2a60349422ededea9d15429b4"
   },
   "outputs": [
    {
     "name": "stdout",
     "output_type": "stream",
     "text": [
      "\n",
      " Shape of raw train data: (595212, 57)\n",
      " Shape of raw test data: (892816, 57)\n",
      "\n",
      " Learning random projections - this will take less time than entity embedding ...\n",
      "\n",
      " Shape of processed train data: (595212, 49)\n",
      " Shape of processed test data: (892816, 49)\n",
      "\n",
      " Time taken: 0 hours 0 minutes and 43.45 seconds.\n"
     ]
    }
   ],
   "source": [
    "GINIbest = -1.\n",
    "\n",
    "ce = CE(strategy='random_projection', verbose=True)\n",
    "#ce = CE(strategy='entity_embedding', verbose=True)\n",
    "\n",
    "start_time = timer(None)\n",
    "\n",
    "train_loader = pd.read_csv('./data/train.csv', dtype={'target': np.int8, 'id': np.int32})\n",
    "train = train_loader.drop(['target', 'id'], axis=1)\n",
    "print('\\n Shape of raw train data:', train.shape)\n",
    "col_to_drop = train.columns[train.columns.str.startswith('ps_calc_')]\n",
    "train.drop(col_to_drop, axis=1, inplace=True)\n",
    "target = train_loader['target']\n",
    "train_ids = train_loader['id'].values\n",
    "\n",
    "test_loader = pd.read_csv('./data/test.csv', dtype={'id': np.int32})\n",
    "test = test_loader.drop(['id'], axis=1)\n",
    "print(' Shape of raw test data:', test.shape)\n",
    "test.drop(col_to_drop, axis=1, inplace=True)\n",
    "test_ids = test_loader['id'].values\n",
    "\n",
    "#n_train = train.shape[0]\n",
    "#train_test = pd.concat((train, test)).reset_index(drop=True)\n",
    "col_to_embed = train.columns[train.columns.str.endswith('_cat')].astype(str).tolist()\n",
    "embed_train = train[col_to_embed].astype(np.str)\n",
    "embed_test = test[col_to_embed].astype(np.str)\n",
    "train.drop(col_to_embed, axis=1, inplace=True)\n",
    "test.drop(col_to_embed, axis=1, inplace=True)\n",
    "\n",
    "print('\\n Learning random projections - this will take less time than entity embedding ...')\n",
    "#print('\\n Learning entity embedding - this will take a while ...')\n",
    "ce.fit(embed_train, target)\n",
    "embed_enc_train = ce.transform(embed_train)\n",
    "embed_enc_test = ce.transform(embed_test)\n",
    "trn_df = pd.concat((train, embed_enc_train), axis=1)\n",
    "sub_df = pd.concat((test, embed_enc_test), axis=1)\n",
    "print('\\n Shape of processed train data:', trn_df.shape)\n",
    "print(' Shape of processed test data:', sub_df.shape)\n",
    "\n",
    "timer(start_time)"
   ]
  },
  {
   "cell_type": "markdown",
   "metadata": {
    "_cell_guid": "1f2f9b50-648f-4983-ab39-e91c186b9027",
    "_uuid": "a23989cf37c4d031ec1eefe5fce7af00114f37b9"
   },
   "source": [
    "Several things are worth noting here. First, the effective range of max_depth is 2-6. Since in that range the overfitting is less likely, I was brave enough to top *gamma* and *min_child_weight* at 5. All of this is done for the sake of time. However, a proper way would be to allow max_depth to be 8 (or even 10), in which case *gamma* and *min_child_weight* should be topping at 10 or so.\n",
    "\n",
    "*If you decide to uncomment the remaining three parameters here, the same must be done above in XGB_CV section.*"
   ]
  },
  {
   "cell_type": "code",
   "execution_count": 10,
   "metadata": {
    "_cell_guid": "fc10ebcb-2c7d-4d2c-bc35-44a1161bce53",
    "_uuid": "d0d08d657ac9deb275acd1f56dd0df931ef0707b"
   },
   "outputs": [],
   "source": [
    "XGB_BO = BayesianOptimization(XGB_CV, {\n",
    "                                     'max_depth': (2, 6.99),\n",
    "                                     'gamma': (0.1, 5),\n",
    "                                     'min_child_weight': (0, 5),\n",
    "                                     'scale_pos_weight': (1, 5),\n",
    "                                     'reg_alpha': (0, 10),\n",
    "                                     'reg_lambda': (1, 10),\n",
    "                                     'max_delta_step': (0, 5),\n",
    "                                     'subsample': (0.4, 1.0),\n",
    "#                                     'colsample_bytree' :(0.4, 1.0)\n",
    "                                    })\n"
   ]
  },
  {
   "cell_type": "markdown",
   "metadata": {
    "_cell_guid": "6205264b-a383-4573-8a9e-444ff21caa6d",
    "_uuid": "0a6bfe804173ac2f4591ccebb3c56e81f868da8c"
   },
   "source": [
    "We are doing a little trick here. Since it is highly unlikely that 5-6 parameter search runs would be able to identify anything remotely close to optimal parameters, I am giving us a head-start by providing two parameter combinations that are known to give good scores.\n",
    "\n",
    "Note that these are specifically for random projection encoding. If you go with entity embedding, you'll want to delete this section and uncomment the whole paragraph underneath it."
   ]
  },
  {
   "cell_type": "code",
   "execution_count": 11,
   "metadata": {
    "_cell_guid": "3b5f748c-4a14-47eb-8c63-80db29f652b6",
    "_uuid": "4109068a0793c6c6c0b14ac7f1095247e5246e02"
   },
   "outputs": [],
   "source": [
    "XGB_BO.explore({\n",
    "              'max_depth':            [4, 4],\n",
    "              'gamma':                [0.1511, 2.7823],\n",
    "              'min_child_weight':     [2.4073, 2.6086],\n",
    "              'scale_pos_weight':     [2.2281, 2.4993],\n",
    "              'reg_alpha':            [8.0702, 6.9874],\n",
    "              'reg_lambda':           [2.0126, 3.9598],\n",
    "              'max_delta_step':       [1, 1],\n",
    "              'subsample':            [0.8, 0.8],\n",
    "#              'colsample_bytree':     [0.8, 0.8],\n",
    "              })\n",
    "\n",
    "# If you go with entitiy embedding, these are good starting points\n",
    "#XGB_BO.explore({\n",
    "#              'max_depth':            [4, 4],\n",
    "#              'gamma':                [2.8098, 2.1727],\n",
    "#              'min_child_weight':     [4.1592, 4.8113],\n",
    "#              'scale_pos_weight':     [2.4450, 1.7195],\n",
    "#              'reg_alpha':            [2.8601, 7.6995],\n",
    "#              'reg_lambda':           [6.5563, 2.6879],\n",
    "#              })\n"
   ]
  },
  {
   "cell_type": "markdown",
   "metadata": {
    "_cell_guid": "154c018d-936f-40b7-ae3b-58eac23bf7f7",
    "_uuid": "78a5c19e805a5efe53aae290c90662153dd2ee04"
   },
   "source": [
    "We are doing only one random guess of parameters, which makes a total of 3 when combined with two exploratory groups above. Afterwards, only 2 optimization runs are done.\n",
    "\n",
    "A total number of random points (from **.explore** section + init_points) should be at least 10-15. I would consider 20 if you decide to include more than 6 parameters. n_iter should be in 30+ range to do proper parameter optimization."
   ]
  },
  {
   "cell_type": "code",
   "execution_count": 12,
   "metadata": {
    "_cell_guid": "f3fa4483-5410-4ee1-b5bc-a95b56ef9013",
    "_uuid": "e6f40de99c5367b9b2f99b267c2d6bfce64ba0ae"
   },
   "outputs": [
    {
     "name": "stdout",
     "output_type": "stream",
     "text": [
      "------------------------------------------------------------------------------------------------------------------------------\n",
      "\u001b[31mInitialization\u001b[0m\n",
      "\u001b[94m---------------------------------------------------------------------------------------------------------------------------------------------------------------\u001b[0m\n",
      " Step |   Time |      Value |     gamma |   max_delta_step |   max_depth |   min_child_weight |   reg_alpha |   reg_lambda |   scale_pos_weight |   subsample | \n"
     ]
    },
    {
     "ename": "TypeError",
     "evalue": "XGB_CV() got an unexpected keyword argument 'max_delta_step'",
     "output_type": "error",
     "traceback": [
      "\u001b[0;31m\u001b[0m",
      "\u001b[0;31mTypeError\u001b[0mTraceback (most recent call last)",
      "\u001b[0;32m<ipython-input-12-51c021ef7aae>\u001b[0m in \u001b[0;36m<module>\u001b[0;34m()\u001b[0m\n\u001b[1;32m      4\u001b[0m \u001b[0;32mwith\u001b[0m \u001b[0mwarnings\u001b[0m\u001b[0;34m.\u001b[0m\u001b[0mcatch_warnings\u001b[0m\u001b[0;34m(\u001b[0m\u001b[0;34m)\u001b[0m\u001b[0;34m:\u001b[0m\u001b[0;34m\u001b[0m\u001b[0m\n\u001b[1;32m      5\u001b[0m     \u001b[0mwarnings\u001b[0m\u001b[0;34m.\u001b[0m\u001b[0mfilterwarnings\u001b[0m\u001b[0;34m(\u001b[0m\u001b[0;34m'ignore'\u001b[0m\u001b[0;34m)\u001b[0m\u001b[0;34m\u001b[0m\u001b[0m\n\u001b[0;32m----> 6\u001b[0;31m     \u001b[0mXGB_BO\u001b[0m\u001b[0;34m.\u001b[0m\u001b[0mmaximize\u001b[0m\u001b[0;34m(\u001b[0m\u001b[0minit_points\u001b[0m\u001b[0;34m=\u001b[0m\u001b[0;36m1\u001b[0m\u001b[0;34m,\u001b[0m \u001b[0mn_iter\u001b[0m\u001b[0;34m=\u001b[0m\u001b[0;36m2\u001b[0m\u001b[0;34m,\u001b[0m \u001b[0macq\u001b[0m\u001b[0;34m=\u001b[0m\u001b[0;34m'ei'\u001b[0m\u001b[0;34m,\u001b[0m \u001b[0mxi\u001b[0m\u001b[0;34m=\u001b[0m\u001b[0;36m0.0\u001b[0m\u001b[0;34m)\u001b[0m\u001b[0;34m\u001b[0m\u001b[0m\n\u001b[0m\u001b[1;32m      7\u001b[0m \u001b[0mtimer\u001b[0m\u001b[0;34m(\u001b[0m\u001b[0mstart_time\u001b[0m\u001b[0;34m)\u001b[0m\u001b[0;34m\u001b[0m\u001b[0m\n",
      "\u001b[0;32m/home/frodos/ML/local/lib/python2.7/site-packages/bayes_opt/bayesian_optimization.pyc\u001b[0m in \u001b[0;36mmaximize\u001b[0;34m(self, init_points, n_iter, acq, kappa, xi, **gp_params)\u001b[0m\n\u001b[1;32m    247\u001b[0m             \u001b[0;32mif\u001b[0m \u001b[0mself\u001b[0m\u001b[0;34m.\u001b[0m\u001b[0mverbose\u001b[0m\u001b[0;34m:\u001b[0m\u001b[0;34m\u001b[0m\u001b[0m\n\u001b[1;32m    248\u001b[0m                 \u001b[0mself\u001b[0m\u001b[0;34m.\u001b[0m\u001b[0mplog\u001b[0m\u001b[0;34m.\u001b[0m\u001b[0mprint_header\u001b[0m\u001b[0;34m(\u001b[0m\u001b[0;34m)\u001b[0m\u001b[0;34m\u001b[0m\u001b[0m\n\u001b[0;32m--> 249\u001b[0;31m             \u001b[0mself\u001b[0m\u001b[0;34m.\u001b[0m\u001b[0minit\u001b[0m\u001b[0;34m(\u001b[0m\u001b[0minit_points\u001b[0m\u001b[0;34m)\u001b[0m\u001b[0;34m\u001b[0m\u001b[0m\n\u001b[0m\u001b[1;32m    250\u001b[0m \u001b[0;34m\u001b[0m\u001b[0m\n\u001b[1;32m    251\u001b[0m         \u001b[0my_max\u001b[0m \u001b[0;34m=\u001b[0m \u001b[0mself\u001b[0m\u001b[0;34m.\u001b[0m\u001b[0mY\u001b[0m\u001b[0;34m.\u001b[0m\u001b[0mmax\u001b[0m\u001b[0;34m(\u001b[0m\u001b[0;34m)\u001b[0m\u001b[0;34m\u001b[0m\u001b[0m\n",
      "\u001b[0;32m/home/frodos/ML/local/lib/python2.7/site-packages/bayes_opt/bayesian_optimization.pyc\u001b[0m in \u001b[0;36minit\u001b[0;34m(self, init_points)\u001b[0m\n\u001b[1;32m    102\u001b[0m         \u001b[0;32mfor\u001b[0m \u001b[0mx\u001b[0m \u001b[0;32min\u001b[0m \u001b[0mself\u001b[0m\u001b[0;34m.\u001b[0m\u001b[0minit_points\u001b[0m\u001b[0;34m:\u001b[0m\u001b[0;34m\u001b[0m\u001b[0m\n\u001b[1;32m    103\u001b[0m \u001b[0;34m\u001b[0m\u001b[0m\n\u001b[0;32m--> 104\u001b[0;31m             \u001b[0my_init\u001b[0m\u001b[0;34m.\u001b[0m\u001b[0mappend\u001b[0m\u001b[0;34m(\u001b[0m\u001b[0mself\u001b[0m\u001b[0;34m.\u001b[0m\u001b[0mf\u001b[0m\u001b[0;34m(\u001b[0m\u001b[0;34m**\u001b[0m\u001b[0mdict\u001b[0m\u001b[0;34m(\u001b[0m\u001b[0mzip\u001b[0m\u001b[0;34m(\u001b[0m\u001b[0mself\u001b[0m\u001b[0;34m.\u001b[0m\u001b[0mkeys\u001b[0m\u001b[0;34m,\u001b[0m \u001b[0mx\u001b[0m\u001b[0;34m)\u001b[0m\u001b[0;34m)\u001b[0m\u001b[0;34m)\u001b[0m\u001b[0;34m)\u001b[0m\u001b[0;34m\u001b[0m\u001b[0m\n\u001b[0m\u001b[1;32m    105\u001b[0m \u001b[0;34m\u001b[0m\u001b[0m\n\u001b[1;32m    106\u001b[0m             \u001b[0;32mif\u001b[0m \u001b[0mself\u001b[0m\u001b[0;34m.\u001b[0m\u001b[0mverbose\u001b[0m\u001b[0;34m:\u001b[0m\u001b[0;34m\u001b[0m\u001b[0m\n",
      "\u001b[0;31mTypeError\u001b[0m: XGB_CV() got an unexpected keyword argument 'max_delta_step'"
     ]
    }
   ],
   "source": [
    "print('-'*126)\n",
    "\n",
    "start_time = timer(None)\n",
    "with warnings.catch_warnings():\n",
    "    warnings.filterwarnings('ignore')\n",
    "    XGB_BO.maximize(init_points=1, n_iter=2, acq='ei', xi=0.0)\n",
    "timer(start_time)"
   ]
  },
  {
   "cell_type": "markdown",
   "metadata": {
    "_cell_guid": "a6b19e7b-6272-4c7e-bffe-d3c7e49a8c03",
    "_uuid": "75b02617c1dd9041c60c6c27e1405e657f0b591d"
   },
   "source": [
    "Here we print the summary and create a CSV file with grid results."
   ]
  },
  {
   "cell_type": "code",
   "execution_count": null,
   "metadata": {
    "_cell_guid": "d353dc81-a869-4759-9191-7471de46070a",
    "_uuid": "73b31c14afbf82b48101ed323952a439cf0072cd"
   },
   "outputs": [],
   "source": [
    "print('-'*126)\n",
    "print('\\n Final Results')\n",
    "print(' Maximum XGBOOST value: %f' % XGB_BO.res['max']['max_val'])\n",
    "print(' Best XGBOOST parameters: ', XGB_BO.res['max']['max_params'])\n",
    "grid_file = 'Bayes-gini-5fold-XGB-target-enc-run-04-v1-grid.csv'\n",
    "print(' Saving grid search parameters to %s' % grid_file)\n",
    "XGB_BO.points_to_csv(grid_file)"
   ]
  },
  {
   "cell_type": "markdown",
   "metadata": {
    "_cell_guid": "6c9b60e7-93a0-4ab0-82ff-9221143b7a46",
    "_uuid": "3fd9c895bbace20a56baf5dade545351f2a1533d"
   },
   "source": [
    "Finally, we do the last XGBoost upsampling, but this time with larger **n_estimators** and smaller **learning_rate**. You should do 1000 for n_estimators even if you don't touch the learning rate. If you lower the learning rate further, definitely increase n_estimators to 1500-2000."
   ]
  },
  {
   "cell_type": "code",
   "execution_count": null,
   "metadata": {
    "_cell_guid": "a5670fd1-196a-4373-b577-da7fed9e475a",
    "_uuid": "bb96c111541d1582e004d9cf8f8e57f3f0c4d831"
   },
   "outputs": [],
   "source": [
    "\n",
    "max_depth = int(XGB_BO.res['max']['max_params']['max_depth'])\n",
    "gamma = XGB_BO.res['max']['max_params']['gamma']\n",
    "min_child_weight = XGB_BO.res['max']['max_params']['min_child_weight']\n",
    "#max_delta_step = int(XGB_BO.res['max']['max_params']['max_delta_step'])\n",
    "#subsample = XGB_BO.res['max']['max_params']['subsample']\n",
    "#colsample_bytree = XGB_BO.res['max']['max_params']['colsample_bytree']\n",
    "scale_pos_weight = XGB_BO.res['max']['max_params']['scale_pos_weight']\n",
    "reg_alpha = XGB_BO.res['max']['max_params']['reg_alpha']\n",
    "reg_lambda = XGB_BO.res['max']['max_params']['reg_lambda']\n",
    "\n",
    "start_time = timer(None)\n",
    "print('\\n Making final prediction - this will take a while ...')\n",
    "n_splits = 5\n",
    "n_estimators = 800\n",
    "folds = StratifiedKFold(n_splits=n_splits, random_state=1001)\n",
    "imp_df = np.zeros((len(trn_df.columns), n_splits))\n",
    "xgb_evals = np.zeros((n_estimators, n_splits))\n",
    "oof = np.empty(len(trn_df))\n",
    "sub_preds = np.zeros(len(sub_df))\n",
    "increase = True\n",
    "np.random.seed(0)\n",
    "\n",
    "for fold_, (trn_idx, val_idx) in enumerate(folds.split(target, target)):\n",
    "    trn_dat, trn_tgt = trn_df.iloc[trn_idx], target.iloc[trn_idx]\n",
    "    val_dat, val_tgt = trn_df.iloc[val_idx], target.iloc[val_idx]\n",
    "\n",
    "    clf = XGBClassifier(n_estimators=n_estimators,\n",
    "                        max_depth=max_depth,\n",
    "                        objective=\"binary:logistic\",\n",
    "                        learning_rate=0.02,\n",
    "#                        subsample=subsample,\n",
    "#                        colsample_bytree=colsample_bytree,\n",
    "#                        max_delta_step=max_delta_step,\n",
    "                        subsample=0.8,\n",
    "                        colsample_bytree=0.8,\n",
    "                        max_delta_step=1,\n",
    "                        gamma=gamma,\n",
    "                        min_child_weight=min_child_weight,\n",
    "                        reg_alpha=reg_alpha,\n",
    "                        reg_lambda=reg_lambda,\n",
    "                        scale_pos_weight=scale_pos_weight,\n",
    "                        nthread=4)\n",
    "    # Upsample during cross validation to avoid having the same samples\n",
    "    # in both train and validation sets\n",
    "    # Validation set is not up-sampled to monitor overfitting\n",
    "    if increase:\n",
    "        # Get positive examples\n",
    "        pos = pd.Series(trn_tgt == 1)\n",
    "        # Add positive examples\n",
    "        trn_dat = pd.concat([trn_dat, trn_dat.loc[pos]], axis=0)\n",
    "        trn_tgt = pd.concat([trn_tgt, trn_tgt.loc[pos]], axis=0)\n",
    "        # Shuffle data\n",
    "        idx = np.arange(len(trn_dat))\n",
    "        np.random.shuffle(idx)\n",
    "        trn_dat = trn_dat.iloc[idx]\n",
    "        trn_tgt = trn_tgt.iloc[idx]\n",
    "\n",
    "    clf.fit(trn_dat, trn_tgt,\n",
    "            eval_set=[(trn_dat, trn_tgt), (val_dat, val_tgt)],\n",
    "            eval_metric=gini_xgb,\n",
    "            early_stopping_rounds=None,\n",
    "            verbose=False)\n",
    "\n",
    "    # Keep feature importances\n",
    "    imp_df[:, fold_] = clf.feature_importances_\n",
    "\n",
    "    # Find best round for validation set\n",
    "    xgb_evals[:, fold_] = clf.evals_result_[\"validation_1\"][\"gini\"]\n",
    "    # Xgboost provides best round starting from 0 so it has to be incremented\n",
    "    best_round = np.argsort(xgb_evals[:, fold_])[::-1][0]\n",
    "\n",
    "    # Predict OOF and submission probas with the best round\n",
    "    oof[val_idx] = clf.predict_proba(val_dat, ntree_limit=best_round)[:, 1]\n",
    "    # Update submission\n",
    "    sub_preds += clf.predict_proba(sub_df, ntree_limit=best_round)[:, 1] / n_splits\n",
    "\n",
    "    # Display results\n",
    "    print(\"Fold %2d : %.6f @%4d / best score is %.6f @%4d\"\n",
    "          % (fold_ + 1,\n",
    "             eval_gini(val_tgt, oof[val_idx]),\n",
    "             n_estimators,\n",
    "             xgb_evals[best_round, fold_],\n",
    "             best_round))\n",
    "\n",
    "print(\"Full OOF score : %.6f\" % eval_gini(target, oof))\n",
    "\n",
    "# Compute mean score and std\n",
    "mean_eval = np.mean(xgb_evals, axis=1)\n",
    "std_eval = np.std(xgb_evals, axis=1)\n",
    "best_round = np.argsort(mean_eval)[::-1][0]\n",
    "\n",
    "print(\"Best mean score : %.6f + %.6f @%4d\"\n",
    "      % (mean_eval[best_round], std_eval[best_round], best_round))\n",
    "\n",
    "best_gini = round(mean_eval[best_round], 6)\n",
    "importances = sorted([(trn_df.columns[i], imp) for i, imp in enumerate(imp_df.mean(axis=1))],\n",
    "                     key=lambda x: x[1])\n",
    "\n",
    "for f, imp in importances[::-1]:\n",
    "    print(\"%-34s : %10.4f\" % (f, imp))\n",
    "\n",
    "timer(start_time)\n",
    "\n",
    "final_df = pd.DataFrame(test_ids, columns=['id'])\n",
    "final_df['target'] = sub_preds\n",
    "\n",
    "now = datetime.now()\n",
    "sub_file = 'submission_5fold-xgb-upsampling-target-enc-01_' + str(best_gini) + '_' + str(now.strftime('%Y-%m-%d-%H-%M')) + '.csv'\n",
    "print('\\n Writing submission: %s' % sub_file)\n",
    "final_df.to_csv(sub_file, index=False, float_format=\"%.9f\")"
   ]
  },
  {
   "cell_type": "code",
   "execution_count": null,
   "metadata": {
    "_cell_guid": "0e159c70-44f5-4e8f-9d69-9659549081d8",
    "_uuid": "1182b095f124f0ad3870ede7079507125ef72b9b",
    "collapsed": true
   },
   "outputs": [],
   "source": []
  }
 ],
 "metadata": {
  "kernelspec": {
   "display_name": "Python (Machine Learning)",
   "language": "python",
   "name": "ml"
  },
  "language_info": {
   "codemirror_mode": {
    "name": "ipython",
    "version": 2
   },
   "file_extension": ".py",
   "mimetype": "text/x-python",
   "name": "python",
   "nbconvert_exporter": "python",
   "pygments_lexer": "ipython2",
   "version": "2.7.12"
  }
 },
 "nbformat": 4,
 "nbformat_minor": 1
}
