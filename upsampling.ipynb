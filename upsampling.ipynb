{
 "cells": [
  {
   "cell_type": "code",
   "execution_count": 1,
   "metadata": {},
   "outputs": [],
   "source": [
    "import numpy as np\n",
    "import pandas as pd\n",
    "\n",
    "from sklearn.model_selection import StratifiedKFold\n",
    "from sklearn.metrics import roc_auc_score\n",
    "\n",
    "from catboost import CatBoostClassifier\n",
    "from catboost import Pool\n",
    "\n",
    "import os"
   ]
  },
  {
   "cell_type": "code",
   "execution_count": 51,
   "metadata": {},
   "outputs": [],
   "source": [
    "def trainCatBoost(trainSet, targetSet, params= {'depth': 7, 'rate': 0.03, 'l2': 8, 'T': 1},\n",
    "                  folds= 5, maxIter= 2000, verbose= True, dirName= '/tmp/porto/catboost/', class_weight = [1, 1]):\n",
    "    # create log directory\n",
    "    dirName = dirName + str(params.get('depth')) + '_' + str(params.get('rate')) + \\\n",
    "              '_' + str(params.get('l2')) + '_' + str(params.get('T'))\n",
    "\n",
    "    try:\n",
    "        os.makedirs(dirName)\n",
    "    except Exception as inst:\n",
    "        print inst  # __str__ allows args to be printed directly\n",
    "\n",
    "    treeList = list()\n",
    "    scoreList = list()\n",
    "    modelList = list()\n",
    "    prob = np.zeros([trainSet.shape[0]])\n",
    "\n",
    "    skf = StratifiedKFold(n_splits=folds, shuffle=True, random_state=42)\n",
    "\n",
    "    for i, (train_index, val_index) in enumerate(skf.split(trainSet, targetSet)):\n",
    "        print 'Fold #%d'%i\n",
    "        model = CatBoostClassifier(verbose=verbose, iterations=maxIter, eval_metric=\"AUC\", class_weights= class_weight,\n",
    "                                   depth=params['depth'], learning_rate=params['rate'],\n",
    "                                   l2_leaf_reg=params['l2'], bagging_temperature=params['T'],\n",
    "                                   od_type='Iter', od_wait=100,\n",
    "                                   gradient_iterations = 4, rsm= 0.9,\n",
    "                                   train_dir=dirName +\"/\"+ str(i), random_seed=i)\n",
    "\n",
    "        # create pool\n",
    "        trainPool = Pool(trainSet.iloc[train_index], targetSet.iloc[train_index],\n",
    "                         feature_names=trainSet.columns.tolist())\n",
    "\n",
    "        valPool = Pool(trainSet.iloc[val_index], targetSet.iloc[val_index],\n",
    "                         feature_names=trainSet.columns.tolist())\n",
    "\n",
    "        # fit and estimate the model\n",
    "        model.fit(trainPool, eval_set=valPool, use_best_model=True)\n",
    "        prob[val_index] = model.predict_proba(valPool)[:, 1]\n",
    "        localScore = roc_auc_score(targetSet.iloc[val_index], prob[val_index])\n",
    "\n",
    "        treeList.append(model.tree_count_)\n",
    "        scoreList.append(localScore)\n",
    "        modelList.append(model)\n",
    "        print 'Local score is %f, tree count is %d'%(localScore, model.tree_count_)\n",
    "        \n",
    "    score = roc_auc_score(targetSet, prob)\n",
    "    return {'score':score, 'treeList':treeList, 'scoreList':scoreList, 'gini':2*score-1, 'models':modelList}"
   ]
  },
  {
   "cell_type": "code",
   "execution_count": 33,
   "metadata": {},
   "outputs": [],
   "source": [
    "def getPredictions(X_train, y_train, X_test, params, n_seed = 5, n_iter = 1000, fName = None, verbose = True):\n",
    "    prob = np.zeros([X_test.shape[0],n_seed])\n",
    "    dirName= '/tmp/porto/catboost/'\n",
    "    \n",
    "    # create pool\n",
    "    trainPool = Pool(X_train, y_train)\n",
    "    testPool =  Pool(X_test)\n",
    "    \n",
    "    for seed in range(0,n_seed):\n",
    "        model = CatBoostClassifier(verbose= verbose, iterations= n_iter, eval_metric=\"AUC\",\n",
    "                                           depth=params['depth'], learning_rate=params['rate'],\n",
    "                                           l2_leaf_reg=params['l2'], bagging_temperature=params['T'],\n",
    "                                           od_type='Iter', od_wait=100,\n",
    "                                           train_dir=dirName +\"/\"+ str(seed), random_seed= seed,\n",
    "                                           gradient_iterations = 4, rsm= 0.9)\n",
    "         \n",
    "        model.fit(trainPool)\n",
    "        prob[:,seed] = model.predict_proba(testPool)[:,1]\n",
    "    \n",
    "    df = pd.DataFrame(prob.mean(axis = 1), columns=['target'], index=X_test.index)\n",
    "    if fName:\n",
    "        df.to_csv(fName,index_label='id')\n",
    "    \n",
    "    return df"
   ]
  },
  {
   "cell_type": "code",
   "execution_count": 9,
   "metadata": {},
   "outputs": [],
   "source": [
    "def prepareData(rawData):\n",
    "    \"\"\"\n",
    "    Return Pandas dataframe for training.\n",
    "    :return: pandas dataframe\n",
    "    \"\"\"\n",
    "\n",
    "    #rawData = pd.read_csv('../data/train.csv', index_col='id')\n",
    "\n",
    "    # drop _calc_ features\n",
    "    dropList = list()\n",
    "    for fName in rawData.columns.tolist():\n",
    "        if fName.find('_calc_') > (-1):\n",
    "            dropList.append(fName)\n",
    "    df = rawData.drop(dropList, axis=1)\n",
    "\n",
    "    # squared feature \"ps_car_15\"\n",
    "    df = df.assign(ps_car_15_mod = np.power(df.ps_car_15,2).astype(int)).drop(\"ps_car_15\", axis = 1)\n",
    "\n",
    "    # inverse one-hot-encoding for ind_06 % ind_09\n",
    "    df = df.assign(ps_ind_69_cat = 0*df.ps_ind_06_bin+df.ps_ind_07_bin+2*df.ps_ind_08_bin+3*df.ps_ind_09_bin)\n",
    "    df.drop(['ps_ind_06_bin','ps_ind_07_bin','ps_ind_08_bin','ps_ind_09_bin'], inplace=True, axis = 1)\n",
    "\n",
    "    #drop \"ind_14\"\n",
    "    df.drop('ps_ind_14', axis = 1, inplace = True)\n",
    "\n",
    "    return df"
   ]
  },
  {
   "cell_type": "code",
   "execution_count": 10,
   "metadata": {},
   "outputs": [],
   "source": [
    "# get train data\n",
    "train = prepareData(pd.read_csv('./data/train.csv', index_col='id'))"
   ]
  },
  {
   "cell_type": "code",
   "execution_count": 11,
   "metadata": {},
   "outputs": [],
   "source": [
    "test = prepareData(pd.read_csv('./data/test.csv', index_col='id'))"
   ]
  },
  {
   "cell_type": "markdown",
   "metadata": {},
   "source": [
    "## Обучение модели без upsampling"
   ]
  },
  {
   "cell_type": "code",
   "execution_count": 22,
   "metadata": {},
   "outputs": [
    {
     "name": "stdout",
     "output_type": "stream",
     "text": [
      "[Errno 17] File exists: '/tmp/porto/catboost/7_0.055_5.5_1.5'\n",
      "Fold #0\n",
      "Local score is 0.631454, tree count is 487\n",
      "Fold #1\n",
      "Local score is 0.644478, tree count is 547\n",
      "Fold #2\n",
      "Local score is 0.642380, tree count is 431\n",
      "Fold #3\n",
      "Local score is 0.644954, tree count is 360\n",
      "Fold #4\n",
      "Local score is 0.643083, tree count is 336\n"
     ]
    }
   ],
   "source": [
    "params = {'depth': 7, 'l2': 5.5, 'rate': 0.055, 'T': 1.5}\n",
    "model1 = trainCatBoost(train.drop(\"target\", axis= 1), train.target, params= params, verbose= False)"
   ]
  },
  {
   "cell_type": "code",
   "execution_count": 30,
   "metadata": {},
   "outputs": [
    {
     "data": {
      "text/plain": [
       "{'gini': 0.28241054440757107,\n",
       " 'score': 0.64120527220378554,\n",
       " 'scoreList': [0.63145397180268126,\n",
       "  0.64447774808639191,\n",
       "  0.64237993791191628,\n",
       "  0.6449541257103576,\n",
       "  0.64308274059338544],\n",
       " 'treeList': [487, 547, 431, 360, 336]}"
      ]
     },
     "execution_count": 30,
     "metadata": {},
     "output_type": "execute_result"
    }
   ],
   "source": [
    "model1"
   ]
  },
  {
   "cell_type": "code",
   "execution_count": 31,
   "metadata": {},
   "outputs": [
    {
     "data": {
      "text/plain": [
       "432.19999999999999"
      ]
     },
     "execution_count": 31,
     "metadata": {},
     "output_type": "execute_result"
    }
   ],
   "source": [
    "np.array(model1['treeList']).mean(0)"
   ]
  },
  {
   "cell_type": "code",
   "execution_count": 35,
   "metadata": {},
   "outputs": [],
   "source": [
    "pred = getPredictions(train.drop(\"target\", axis= 1), train.target, test, params, n_iter= 450, fName= 'submission25.csv', verbose= False)"
   ]
  },
  {
   "cell_type": "markdown",
   "metadata": {},
   "source": [
    "score 0.280"
   ]
  },
  {
   "cell_type": "code",
   "execution_count": 36,
   "metadata": {},
   "outputs": [],
   "source": [
    "pred = getPredictions(train.drop(\"target\", axis= 1), train.target, test, params, n_iter= 600, fName= 'submission26.csv', verbose = False)"
   ]
  },
  {
   "cell_type": "markdown",
   "metadata": {},
   "source": [
    "score 0.280"
   ]
  },
  {
   "cell_type": "markdown",
   "metadata": {},
   "source": [
    "## Добавлю upsampling в CatBoost"
   ]
  },
  {
   "cell_type": "code",
   "execution_count": 39,
   "metadata": {},
   "outputs": [
    {
     "name": "stdout",
     "output_type": "stream",
     "text": [
      "[Errno 17] File exists: '/tmp/porto/catboost/7_0.055_5.5_1.5'\n",
      "Fold #0\n",
      "Local score is 0.626639, tree count is 428\n",
      "Fold #1\n",
      "Local score is 0.641386, tree count is 1576\n",
      "Fold #2\n",
      "Local score is 0.640462, tree count is 1297\n",
      "Fold #3\n",
      "Local score is 0.642378, tree count is 1994\n",
      "Fold #4\n",
      "Local score is 0.640151, tree count is 422\n"
     ]
    }
   ],
   "source": [
    "params = {'depth': 7, 'l2': 5.5, 'rate': 0.055, 'T': 1.5}\n",
    "model2 = trainCatBoost(train.drop(\"target\", axis= 1), train.target, params= params, verbose= False, class_weight= [1, 2])"
   ]
  },
  {
   "cell_type": "code",
   "execution_count": 40,
   "metadata": {},
   "outputs": [
    {
     "data": {
      "text/plain": [
       "{'gini': 0.27642036075049159,\n",
       " 'score': 0.63821018037524579,\n",
       " 'scoreList': [0.62663911578207776,\n",
       "  0.64138649437504458,\n",
       "  0.64046177186473319,\n",
       "  0.6423781813920878,\n",
       "  0.64015085372507363],\n",
       " 'treeList': [428, 1576, 1297, 1994, 422]}"
      ]
     },
     "execution_count": 40,
     "metadata": {},
     "output_type": "execute_result"
    }
   ],
   "source": [
    "model2"
   ]
  },
  {
   "cell_type": "markdown",
   "metadata": {},
   "source": [
    "## Ручной upsamppling"
   ]
  },
  {
   "cell_type": "code",
   "execution_count": 47,
   "metadata": {},
   "outputs": [],
   "source": [
    "from sklearn.utils import shuffle"
   ]
  },
  {
   "cell_type": "code",
   "execution_count": 46,
   "metadata": {},
   "outputs": [
    {
     "data": {
      "text/html": [
       "<div>\n",
       "<style>\n",
       "    .dataframe thead tr:only-child th {\n",
       "        text-align: right;\n",
       "    }\n",
       "\n",
       "    .dataframe thead th {\n",
       "        text-align: left;\n",
       "    }\n",
       "\n",
       "    .dataframe tbody tr th {\n",
       "        vertical-align: top;\n",
       "    }\n",
       "</style>\n",
       "<table border=\"1\" class=\"dataframe\">\n",
       "  <thead>\n",
       "    <tr style=\"text-align: right;\">\n",
       "      <th></th>\n",
       "      <th>target</th>\n",
       "      <th>ps_ind_01</th>\n",
       "      <th>ps_ind_02_cat</th>\n",
       "      <th>ps_ind_03</th>\n",
       "      <th>ps_ind_04_cat</th>\n",
       "      <th>ps_ind_05_cat</th>\n",
       "      <th>ps_ind_10_bin</th>\n",
       "      <th>ps_ind_11_bin</th>\n",
       "      <th>ps_ind_12_bin</th>\n",
       "      <th>ps_ind_13_bin</th>\n",
       "      <th>...</th>\n",
       "      <th>ps_car_08_cat</th>\n",
       "      <th>ps_car_09_cat</th>\n",
       "      <th>ps_car_10_cat</th>\n",
       "      <th>ps_car_11_cat</th>\n",
       "      <th>ps_car_11</th>\n",
       "      <th>ps_car_12</th>\n",
       "      <th>ps_car_13</th>\n",
       "      <th>ps_car_14</th>\n",
       "      <th>ps_car_15_mod</th>\n",
       "      <th>ps_ind_69_cat</th>\n",
       "    </tr>\n",
       "    <tr>\n",
       "      <th>id</th>\n",
       "      <th></th>\n",
       "      <th></th>\n",
       "      <th></th>\n",
       "      <th></th>\n",
       "      <th></th>\n",
       "      <th></th>\n",
       "      <th></th>\n",
       "      <th></th>\n",
       "      <th></th>\n",
       "      <th></th>\n",
       "      <th></th>\n",
       "      <th></th>\n",
       "      <th></th>\n",
       "      <th></th>\n",
       "      <th></th>\n",
       "      <th></th>\n",
       "      <th></th>\n",
       "      <th></th>\n",
       "      <th></th>\n",
       "      <th></th>\n",
       "      <th></th>\n",
       "    </tr>\n",
       "  </thead>\n",
       "  <tbody>\n",
       "    <tr>\n",
       "      <th>7</th>\n",
       "      <td>0</td>\n",
       "      <td>2</td>\n",
       "      <td>2</td>\n",
       "      <td>5</td>\n",
       "      <td>1</td>\n",
       "      <td>0</td>\n",
       "      <td>0</td>\n",
       "      <td>0</td>\n",
       "      <td>0</td>\n",
       "      <td>0</td>\n",
       "      <td>...</td>\n",
       "      <td>0</td>\n",
       "      <td>0</td>\n",
       "      <td>1</td>\n",
       "      <td>12</td>\n",
       "      <td>2</td>\n",
       "      <td>0.400000</td>\n",
       "      <td>0.883679</td>\n",
       "      <td>0.370810</td>\n",
       "      <td>13</td>\n",
       "      <td>1</td>\n",
       "    </tr>\n",
       "    <tr>\n",
       "      <th>9</th>\n",
       "      <td>0</td>\n",
       "      <td>1</td>\n",
       "      <td>1</td>\n",
       "      <td>7</td>\n",
       "      <td>0</td>\n",
       "      <td>0</td>\n",
       "      <td>0</td>\n",
       "      <td>0</td>\n",
       "      <td>0</td>\n",
       "      <td>0</td>\n",
       "      <td>...</td>\n",
       "      <td>1</td>\n",
       "      <td>2</td>\n",
       "      <td>1</td>\n",
       "      <td>19</td>\n",
       "      <td>3</td>\n",
       "      <td>0.316228</td>\n",
       "      <td>0.618817</td>\n",
       "      <td>0.388716</td>\n",
       "      <td>6</td>\n",
       "      <td>2</td>\n",
       "    </tr>\n",
       "    <tr>\n",
       "      <th>13</th>\n",
       "      <td>0</td>\n",
       "      <td>5</td>\n",
       "      <td>4</td>\n",
       "      <td>9</td>\n",
       "      <td>1</td>\n",
       "      <td>0</td>\n",
       "      <td>0</td>\n",
       "      <td>0</td>\n",
       "      <td>0</td>\n",
       "      <td>0</td>\n",
       "      <td>...</td>\n",
       "      <td>1</td>\n",
       "      <td>2</td>\n",
       "      <td>1</td>\n",
       "      <td>60</td>\n",
       "      <td>1</td>\n",
       "      <td>0.316228</td>\n",
       "      <td>0.641586</td>\n",
       "      <td>0.347275</td>\n",
       "      <td>11</td>\n",
       "      <td>2</td>\n",
       "    </tr>\n",
       "    <tr>\n",
       "      <th>16</th>\n",
       "      <td>0</td>\n",
       "      <td>0</td>\n",
       "      <td>1</td>\n",
       "      <td>2</td>\n",
       "      <td>0</td>\n",
       "      <td>0</td>\n",
       "      <td>0</td>\n",
       "      <td>0</td>\n",
       "      <td>0</td>\n",
       "      <td>0</td>\n",
       "      <td>...</td>\n",
       "      <td>1</td>\n",
       "      <td>3</td>\n",
       "      <td>1</td>\n",
       "      <td>104</td>\n",
       "      <td>1</td>\n",
       "      <td>0.374166</td>\n",
       "      <td>0.542949</td>\n",
       "      <td>0.294958</td>\n",
       "      <td>4</td>\n",
       "      <td>0</td>\n",
       "    </tr>\n",
       "    <tr>\n",
       "      <th>17</th>\n",
       "      <td>0</td>\n",
       "      <td>0</td>\n",
       "      <td>2</td>\n",
       "      <td>0</td>\n",
       "      <td>1</td>\n",
       "      <td>0</td>\n",
       "      <td>0</td>\n",
       "      <td>0</td>\n",
       "      <td>0</td>\n",
       "      <td>0</td>\n",
       "      <td>...</td>\n",
       "      <td>1</td>\n",
       "      <td>2</td>\n",
       "      <td>1</td>\n",
       "      <td>82</td>\n",
       "      <td>3</td>\n",
       "      <td>0.316070</td>\n",
       "      <td>0.565832</td>\n",
       "      <td>0.365103</td>\n",
       "      <td>4</td>\n",
       "      <td>0</td>\n",
       "    </tr>\n",
       "  </tbody>\n",
       "</table>\n",
       "<p>5 rows × 34 columns</p>\n",
       "</div>"
      ],
      "text/plain": [
       "    target  ps_ind_01  ps_ind_02_cat  ps_ind_03  ps_ind_04_cat  ps_ind_05_cat  \\\n",
       "id                                                                              \n",
       "7        0          2              2          5              1              0   \n",
       "9        0          1              1          7              0              0   \n",
       "13       0          5              4          9              1              0   \n",
       "16       0          0              1          2              0              0   \n",
       "17       0          0              2          0              1              0   \n",
       "\n",
       "    ps_ind_10_bin  ps_ind_11_bin  ps_ind_12_bin  ps_ind_13_bin      ...        \\\n",
       "id                                                                  ...         \n",
       "7               0              0              0              0      ...         \n",
       "9               0              0              0              0      ...         \n",
       "13              0              0              0              0      ...         \n",
       "16              0              0              0              0      ...         \n",
       "17              0              0              0              0      ...         \n",
       "\n",
       "    ps_car_08_cat  ps_car_09_cat  ps_car_10_cat  ps_car_11_cat  ps_car_11  \\\n",
       "id                                                                          \n",
       "7               0              0              1             12          2   \n",
       "9               1              2              1             19          3   \n",
       "13              1              2              1             60          1   \n",
       "16              1              3              1            104          1   \n",
       "17              1              2              1             82          3   \n",
       "\n",
       "    ps_car_12  ps_car_13  ps_car_14  ps_car_15_mod  ps_ind_69_cat  \n",
       "id                                                                 \n",
       "7    0.400000   0.883679   0.370810             13              1  \n",
       "9    0.316228   0.618817   0.388716              6              2  \n",
       "13   0.316228   0.641586   0.347275             11              2  \n",
       "16   0.374166   0.542949   0.294958              4              0  \n",
       "17   0.316070   0.565832   0.365103              4              0  \n",
       "\n",
       "[5 rows x 34 columns]"
      ]
     },
     "execution_count": 46,
     "metadata": {},
     "output_type": "execute_result"
    }
   ],
   "source": [
    "train_upsampled = pd.concat([train, train.query(\"target == 1\")])\n",
    "train_upsampled.head()"
   ]
  },
  {
   "cell_type": "code",
   "execution_count": 48,
   "metadata": {},
   "outputs": [],
   "source": [
    "train_upsampled = shuffle(train_upsampled)"
   ]
  },
  {
   "cell_type": "code",
   "execution_count": 52,
   "metadata": {},
   "outputs": [
    {
     "name": "stdout",
     "output_type": "stream",
     "text": [
      "[Errno 17] File exists: '/tmp/porto/catboost/7_0.055_5.5_1.5'\n",
      "Fold #0\n",
      "Local score is 0.713011, tree count is 4992\n",
      "Fold #1\n",
      "Local score is 0.710714, tree count is 5000\n",
      "Fold #2\n",
      "Local score is 0.713906, tree count is 4996\n",
      "Fold #3\n",
      "Local score is 0.719510, tree count is 4998\n",
      "Fold #4\n",
      "Local score is 0.715529, tree count is 4994\n"
     ]
    }
   ],
   "source": [
    "model3 = trainCatBoost(train_upsampled.drop(\"target\", axis= 1), train_upsampled.target, params= params, verbose= False, maxIter= 5000)"
   ]
  },
  {
   "cell_type": "code",
   "execution_count": null,
   "metadata": {},
   "outputs": [],
   "source": []
  }
 ],
 "metadata": {
  "kernelspec": {
   "display_name": "Python (Machine Learning)",
   "language": "python",
   "name": "ml"
  },
  "language_info": {
   "codemirror_mode": {
    "name": "ipython",
    "version": 2
   },
   "file_extension": ".py",
   "mimetype": "text/x-python",
   "name": "python",
   "nbconvert_exporter": "python",
   "pygments_lexer": "ipython2",
   "version": "2.7.12"
  }
 },
 "nbformat": 4,
 "nbformat_minor": 2
}
