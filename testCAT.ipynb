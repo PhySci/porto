{
 "cells": [
  {
   "cell_type": "code",
   "execution_count": 10,
   "metadata": {},
   "outputs": [],
   "source": [
    "import numpy as np\n",
    "from catboost import CatBoostRegressor\n",
    "from catboost import CatBoostClassifier\n",
    "from catboost import Pool\n",
    "\n",
    "import matplotlib.pyplot as plt\n",
    "%matplotlib inline"
   ]
  },
  {
   "cell_type": "code",
   "execution_count": 1,
   "metadata": {},
   "outputs": [
    {
     "name": "stdout",
     "output_type": "stream",
     "text": [
      "{'rsm': 1, 'use_best_model': False, 'has_time': False, 'verbose': False, 'feature_border_type': 'MinEntropy', 'learning_rate': 1, 'random_strength': 1, 'depth': 6, 'loss_function': 'RMSE', 'iterations': 500, 'l2_leaf_reg': 3, 'store_all_simple_ctr': False, 'name': 'experiment'}\n"
     ]
    }
   ],
   "source": [
    "dataset = np.array([[1,4,5,6],[4,5,6,7],[30,40,50,60],[20,15,85,60]])\n",
    "train_labels = [1.2,3.4,9.5,24.5]\n",
    "model = CatBoostRegressor(learning_rate=1, depth=6, loss_function='RMSE')\n",
    "fit_model = model.fit(dataset, train_labels)\n",
    "\n",
    "print fit_model.get_params()"
   ]
  },
  {
   "cell_type": "markdown",
   "metadata": {},
   "source": [
    "## Classifier"
   ]
  },
  {
   "cell_type": "code",
   "execution_count": 4,
   "metadata": {},
   "outputs": [],
   "source": [
    "# initialize data\n",
    "train_data = np.random.randint(0, 100, size=(100, 10))\n",
    "train_label = np.random.randint(0, 2, size=(100))\n",
    "test_data = np.random.randint(0, 100, size=(50, 10))"
   ]
  },
  {
   "cell_type": "code",
   "execution_count": 5,
   "metadata": {},
   "outputs": [
    {
     "name": "stdout",
     "output_type": "stream",
     "text": [
      "Borders for float features generated\n",
      "0:\tlearn 0.6595766948\ttotal: 71.5ms\tremaining: 71.5ms\n",
      "1:\tlearn 0.6457725255\ttotal: 137ms\tremaining: 0us\n",
      "('class = ', array([ 0.,  0.,  0.,  0.,  0.,  1.,  0.,  0.,  0.,  0.,  0.,  0.,  0.,\n",
      "        0.,  0.,  0.,  0.,  0.,  0.,  0.,  0.,  0.,  0.,  0.,  0.,  0.,\n",
      "        0.,  0.,  0.,  0.,  0.,  0.,  1.,  0.,  0.,  0.,  0.,  0.,  0.,\n",
      "        0.,  0.,  0.,  0.,  0.,  1.,  0.,  0.,  1.,  0.,  0.]))\n",
      "('proba = ', array([[ 0.64356267,  0.35643733],\n",
      "       [ 0.64356267,  0.35643733],\n",
      "       [ 0.5461457 ,  0.4538543 ],\n",
      "       [ 0.5461457 ,  0.4538543 ],\n",
      "       [ 0.5461457 ,  0.4538543 ],\n",
      "       [ 0.24256533,  0.75743467],\n",
      "       [ 0.64356267,  0.35643733],\n",
      "       [ 0.64356267,  0.35643733],\n",
      "       [ 0.5461457 ,  0.4538543 ],\n",
      "       [ 0.64356267,  0.35643733],\n",
      "       [ 0.64356267,  0.35643733],\n",
      "       [ 0.64356267,  0.35643733],\n",
      "       [ 0.5461457 ,  0.4538543 ],\n",
      "       [ 0.5461457 ,  0.4538543 ],\n",
      "       [ 0.5461457 ,  0.4538543 ],\n",
      "       [ 0.64356267,  0.35643733],\n",
      "       [ 0.64356267,  0.35643733],\n",
      "       [ 0.64356267,  0.35643733],\n",
      "       [ 0.64356267,  0.35643733],\n",
      "       [ 0.5461457 ,  0.4538543 ],\n",
      "       [ 0.5461457 ,  0.4538543 ],\n",
      "       [ 0.5461457 ,  0.4538543 ],\n",
      "       [ 0.64356267,  0.35643733],\n",
      "       [ 0.64356267,  0.35643733],\n",
      "       [ 0.5461457 ,  0.4538543 ],\n",
      "       [ 0.64356267,  0.35643733],\n",
      "       [ 0.64356267,  0.35643733],\n",
      "       [ 0.64356267,  0.35643733],\n",
      "       [ 0.5461457 ,  0.4538543 ],\n",
      "       [ 0.64356267,  0.35643733],\n",
      "       [ 0.5461457 ,  0.4538543 ],\n",
      "       [ 0.64356267,  0.35643733],\n",
      "       [ 0.175894  ,  0.824106  ],\n",
      "       [ 0.5461457 ,  0.4538543 ],\n",
      "       [ 0.64356267,  0.35643733],\n",
      "       [ 0.59961852,  0.40038148],\n",
      "       [ 0.64356267,  0.35643733],\n",
      "       [ 0.64356267,  0.35643733],\n",
      "       [ 0.64356267,  0.35643733],\n",
      "       [ 0.64356267,  0.35643733],\n",
      "       [ 0.64356267,  0.35643733],\n",
      "       [ 0.5461457 ,  0.4538543 ],\n",
      "       [ 0.64356267,  0.35643733],\n",
      "       [ 0.64356267,  0.35643733],\n",
      "       [ 0.24256533,  0.75743467],\n",
      "       [ 0.64356267,  0.35643733],\n",
      "       [ 0.5461457 ,  0.4538543 ],\n",
      "       [ 0.24256533,  0.75743467],\n",
      "       [ 0.64356267,  0.35643733],\n",
      "       [ 0.64356267,  0.35643733]]))\n"
     ]
    }
   ],
   "source": [
    "# specify the training parameters \n",
    "model = CatBoostClassifier(iterations=2, depth=2, learning_rate=1, loss_function='Logloss', verbose=True)\n",
    "#train the model\n",
    "model.fit(train_data, train_label, cat_features=[0,2,5], verbose=True)\n",
    "# make the prediction using the resulting model\n",
    "preds_class = model.predict(test_data)\n",
    "preds_proba = model.predict_proba(test_data)\n",
    "print(\"class = \", preds_class)\n",
    "print(\"proba = \", preds_proba)"
   ]
  },
  {
   "cell_type": "markdown",
   "metadata": {},
   "source": [
    "## Regressor"
   ]
  },
  {
   "cell_type": "code",
   "execution_count": 7,
   "metadata": {},
   "outputs": [
    {
     "name": "stdout",
     "output_type": "stream",
     "text": [
      "[ 546.96442545  401.30583426  546.96442545  483.18522317  546.96442545\n",
      "  483.18522317  546.96442545  483.18522317  483.18522317  546.96442545\n",
      "  483.18522317  483.18522317  546.96442545  546.96442545  483.18522317\n",
      "  546.96442545  483.18522317  546.96442545  483.18522317  546.96442545\n",
      "  483.18522317  483.18522317  401.30583426  546.96442545  483.18522317\n",
      "  546.96442545  465.08503654  465.08503654  546.96442545  546.96442545\n",
      "  483.18522317  546.96442545  546.96442545  483.18522317  483.18522317\n",
      "  465.08503654  465.08503654  483.18522317  546.96442545  483.18522317\n",
      "  546.96442545  483.18522317  546.96442545  465.08503654  546.96442545\n",
      "  483.18522317  483.18522317  546.96442545  546.96442545  483.18522317]\n"
     ]
    }
   ],
   "source": [
    "# initialize data\n",
    "train_data = np.random.randint(0, 100, size=(100, 10))\n",
    "train_label = np.random.randint(0, 1000, size=(100))\n",
    "test_data = np.random.randint(0, 100, size=(50, 10))\n",
    "# initialize Pool\n",
    "train_pool = Pool(train_data, train_label, cat_features=[0,2,5])\n",
    "test_pool = Pool(test_data, cat_features=[0,2,5]) \n",
    "\n",
    "# specify the training parameters \n",
    "model = CatBoostRegressor(iterations=2, depth=2, learning_rate=1, loss_function=)\n",
    "#train the model\n",
    "model.fit(train_pool)\n",
    "# make the prediction using the resulting model\n",
    "preds = model.predict(test_pool)\n",
    "print(preds)"
   ]
  },
  {
   "cell_type": "code",
   "execution_count": null,
   "metadata": {},
   "outputs": [],
   "source": []
  }
 ],
 "metadata": {
  "kernelspec": {
   "display_name": "Python (Machine Learning)",
   "language": "python",
   "name": "ml"
  },
  "language_info": {
   "codemirror_mode": {
    "name": "ipython",
    "version": 2
   },
   "file_extension": ".py",
   "mimetype": "text/x-python",
   "name": "python",
   "nbconvert_exporter": "python",
   "pygments_lexer": "ipython2",
   "version": "2.7.12"
  }
 },
 "nbformat": 4,
 "nbformat_minor": 2
}
